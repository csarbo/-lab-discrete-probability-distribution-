{
 "cells": [
  {
   "cell_type": "markdown",
   "metadata": {},
   "source": [
    "# Before your start:\n",
    "\n",
    "    Read the README.md file\n",
    "    Comment as much as you can and use the resources (README.md file)\n",
    "    Happy learning!\n",
    "\n",
    "*Notes:* \n",
    "\n",
    "- Solve the questions with python.\n",
    "\n",
    "- Round the final answer to three decimal places."
   ]
  },
  {
   "cell_type": "markdown",
   "metadata": {},
   "source": [
    "## Bernoulli's Distribution\n",
    "\n",
    "In a basket containing 100 fruits, there are 60 apples and 40 oranges. \n",
    "\n",
    "A fruit is picked randomly from the basket. \n",
    "\n",
    "1. **What is the probability that the fruit is apple?**\n",
    "1. **What is the probability that it is an orange?**"
   ]
  },
  {
   "cell_type": "code",
   "execution_count": 25,
   "metadata": {},
   "outputs": [],
   "source": [
    "import pandas as pd\n",
    "import numpy as np\n",
    "from scipy.stats import bernoulli, binom, poisson\n",
    "import matplotlib.pyplot as plt\n"
   ]
  },
  {
   "cell_type": "code",
   "execution_count": 2,
   "metadata": {},
   "outputs": [
    {
     "name": "stdout",
     "output_type": "stream",
     "text": [
      "Apple probability first way: 0.6\n",
      "Orange probability first way: 0.45\n",
      "Apple probability second way: 0.6\n",
      "Orange probability second way: 0.4\n"
     ]
    }
   ],
   "source": [
    "\"\"\"\n",
    "Calculate:\n",
    "p = probability that the fruit is an apple \n",
    "q = probability that the fruit is an orange\n",
    "\"\"\"\n",
    "\n",
    "# your code here\n",
    "\n",
    "p = 0.6\n",
    "q = 0.4\n",
    "x = [0,1]\n",
    "\n",
    "# first way to calculate the probability\n",
    "# this way with rvs I run a simulation of how many apples and oranges will come\n",
    "# out given the probabilities and then print that probability.\n",
    "\n",
    "p_apple = sum(bernoulli.rvs(p, size = 100))/ 100\n",
    "p_orange = sum(bernoulli.rvs(q, size = 100))/ 100\n",
    "\n",
    "print('Apple probability first way:', p_apple)\n",
    "print('Orange probability first way:', p_orange)\n",
    "\n",
    "# the second way is with bernoulli.pmf (probability mass function)\n",
    "\n",
    "probs = bernoulli.pmf(x,p)\n",
    "\n",
    "p_apple2 = probs[1]\n",
    "p_orange2 = probs[0]\n",
    "\n",
    "print('Apple probability second way:', p_apple2)\n",
    "print('Orange probability second way:', p_orange2)\n",
    "\n",
    "# I personally prefer the second way since it is theorical and more precise, the\n",
    "# first way can vary depending on the composition of the sample. "
   ]
  },
  {
   "cell_type": "markdown",
   "metadata": {},
   "source": [
    "Now we take a random sample of 20 fruits from the basket. After each fruit is taken, a new fruit of the same type is replaced in the basket. Therefore, every time we are taking 1 fruit from 100 fruits. \n",
    "\n",
    "1. **What is the probability that the first 5 fruits are all apples?**\n",
    "\n",
    "1. **What is the probability that the first 5 fruits are all apples and the next 15 fruits are all oranges?**\n",
    "\n",
    "You can include the `p` and `q` probabilities you previous calculated in your solution."
   ]
  },
  {
   "cell_type": "code",
   "execution_count": 3,
   "metadata": {},
   "outputs": [
    {
     "name": "stdout",
     "output_type": "stream",
     "text": [
      "question one first way: 0.07775999999999998\n",
      "question two first way: 8.349416423424006e-08\n",
      "0.0794\n",
      "0.0\n"
     ]
    }
   ],
   "source": [
    "# your code here\n",
    "\n",
    "# Primero intente una forma teorica de resolver el problema\n",
    "\n",
    "q1 = p**5\n",
    "q2 = q**15 * q1\n",
    "\n",
    "print(\"question one first way:\", q1)\n",
    "print(\"question two first way:\", q2)\n",
    "\n",
    "# Despues corri una simulacion para corroborar mi primer solucion. \n",
    "\n",
    "def func_apple(n):\n",
    "    counter = 0\n",
    "    \n",
    "    for i in range(n):\n",
    "        x = bernoulli.rvs(p, size = 20)\n",
    "        s = x[0] + x[1] + x[2] + x[3]+ x[4]\n",
    "       \n",
    "        if s >= 5:\n",
    "            counter += 1\n",
    "\n",
    "    print(counter/n)\n",
    "    \n",
    "def func_orange(n):\n",
    "    counter = 0\n",
    "    \n",
    "    for i in range(n):\n",
    "        x = bernoulli.rvs(p, size = 20)\n",
    "        s = x[0] + x[1] + x[2] + x[3]+ x[4]\n",
    "        n = x[5] + x[6] + x[7] + x[8] + x[9] + x[10] + x[11] + x[12] \\\n",
    "            + x[13] + x[14] + x[15] + x[16] + x[17] + x[18] + x[19]\n",
    "        \n",
    "        if (s >= 5) and (n == 0):\n",
    "            counter += 1\n",
    "\n",
    "    print(counter/n)\n",
    "\n",
    "func_apple(10000)\n",
    "func_orange(10000)\n"
   ]
  },
  {
   "cell_type": "markdown",
   "metadata": {},
   "source": [
    "## Binomial Distribution\n",
    "\n",
    "Similar to the above problem, this time again we randomly sample 20 fruits.\n",
    "\n",
    "**What is the probability that this time the sample contains 5 apples and 15 oranges?**\n",
    "\n",
    "Please note that this time the order of the fruits being picked does not matter."
   ]
  },
  {
   "cell_type": "code",
   "execution_count": 7,
   "metadata": {},
   "outputs": [
    {
     "data": {
      "text/plain": [
       "0.07594151305115823"
      ]
     },
     "execution_count": 7,
     "metadata": {},
     "output_type": "execute_result"
    }
   ],
   "source": [
    "# your code here\n",
    "\n",
    "n = 20 \n",
    "\n",
    "binom_apple = binom(n,p)\n",
    "binom_orange = binom(n,q)\n",
    "\n",
    "\n",
    "binom_apple.pmf(5) + binom_apple.pmf(15)\n"
   ]
  },
  {
   "cell_type": "markdown",
   "metadata": {},
   "source": [
    "In the lesson we also discussed CDF (cumulative distribution function). In the context of the above problem, **what is the probability that less than 5 fruits picked are apples?**\n",
    "\n",
    "Write the formula and calculate the probability below."
   ]
  },
  {
   "cell_type": "code",
   "execution_count": 8,
   "metadata": {},
   "outputs": [
    {
     "data": {
      "text/plain": [
       "0.001611524643456288"
      ]
     },
     "execution_count": 8,
     "metadata": {},
     "output_type": "execute_result"
    }
   ],
   "source": [
    "# your code here\n",
    "\n",
    "binom_apple.cdf(5)"
   ]
  },
  {
   "cell_type": "markdown",
   "metadata": {},
   "source": [
    "**Plot the PDF (probability distributiom function) for the above binomial distribution.**\n",
    "\n",
    "*Hint: The range of x in a binomial distribution is from `0` to `n`.*"
   ]
  },
  {
   "cell_type": "code",
   "execution_count": 30,
   "metadata": {},
   "outputs": [
    {
     "data": {
      "image/png": "[encoded data removed]",
      "text/plain": [
       "<Figure size 432x288 with 1 Axes>"
      ]
     },
     "metadata": {
      "needs_background": "light"
     },
     "output_type": "display_data"
    }
   ],
   "source": [
    "# your code here\n",
    "# Please label the axes and give a title to the plot \n",
    "\n",
    "x = np.arange(0,21)\n",
    "\n",
    "plt.title('Binomial Distribution of getting an Apple')\n",
    "plt.xlabel('Apples')\n",
    "plt.ylabel('Probability')\n",
    "plt.plot(x, binom.pmf(x, n, p),'o');"
   ]
  },
  {
   "cell_type": "markdown",
   "metadata": {},
   "source": [
    "## Poisson Distribution\n",
    "\n",
    "In this challenge you are required to use the Math library in python to solve the problems.\n",
    "\n",
    "In the UEFA champions league tournament, the average number of goals scored in a match is 2.3. \n",
    "\n",
    "**What is the probability that the number of goals scored in a match is 5?**\n",
    "\n",
    "*Hint: Use the exp() in the math library*\n",
    "\n",
    "And to calculate the factorial, you can use the following code:\n",
    "\n",
    "```python\n",
    "import math\n",
    "math.factorial(n) # n is the number you want to find the factorial of\n",
    "```"
   ]
  },
  {
   "cell_type": "code",
   "execution_count": 24,
   "metadata": {},
   "outputs": [],
   "source": [
    "import math"
   ]
  },
  {
   "cell_type": "code",
   "execution_count": 26,
   "metadata": {},
   "outputs": [
    {
     "data": {
      "text/plain": [
       "0.053775025581946814"
      ]
     },
     "execution_count": 26,
     "metadata": {},
     "output_type": "execute_result"
    }
   ],
   "source": [
    "# your code here \n",
    "mean = 2.3\n",
    "\n",
    "poisson.pmf(5,mean)\n"
   ]
  },
  {
   "cell_type": "markdown",
   "metadata": {},
   "source": [
    "**Draw a poisson probability distribution plot for the number of goals to be between 0 to 10.**"
   ]
  },
  {
   "cell_type": "code",
   "execution_count": 29,
   "metadata": {},
   "outputs": [
    {
     "data": {
      "image/png": "[encoded data removed]",
      "text/plain": [
       "<Figure size 432x288 with 1 Axes>"
      ]
     },
     "metadata": {
      "needs_background": "light"
     },
     "output_type": "display_data"
    }
   ],
   "source": [
    "# your code here\n",
    "# Please label the axes and give a title to the plot \n",
    "\n",
    "x = np.arange(0,11)\n",
    "\n",
    "plt.title('Possion Distribution of scoring a goal')\n",
    "plt.xlabel('Goals')\n",
    "plt.ylabel('Probability')\n",
    "plt.plot(x, poisson.pmf(x,mean),'o');\n"
   ]
  },
  {
   "cell_type": "code",
   "execution_count": null,
   "metadata": {},
   "outputs": [],
   "source": []
  }
 ],
 "metadata": {
  "kernelspec": {
   "display_name": "Python 3",
   "language": "python",
   "name": "python3"
  },
  "language_info": {
   "codemirror_mode": {
    "name": "ipython",
    "version": 3
   },
   "file_extension": ".py",
   "mimetype": "text/x-python",
   "name": "python",
   "nbconvert_exporter": "python",
   "pygments_lexer": "ipython3",
   "version": "3.8.5"
  }
 },
 "nbformat": 4,
 "nbformat_minor": 2
}
